{
 "cells": [
  {
   "cell_type": "markdown",
   "metadata": {},
   "source": [
    "# 阶段 1"
   ]
  },
  {
   "cell_type": "markdown",
   "metadata": {},
   "source": [
    "## 基础知识"
   ]
  },
  {
   "cell_type": "code",
   "execution_count": 1,
   "metadata": {},
   "outputs": [
    {
     "name": "stdout",
     "output_type": "stream",
     "text": [
      "25\n",
      "Alice\n",
      "True\n"
     ]
    }
   ],
   "source": [
    "age = 25\n",
    "name = \"Alice\"\n",
    "is_student = True\n",
    "print(age)\n",
    "print(name)\n",
    "print(is_student)"
   ]
  },
  {
   "cell_type": "code",
   "execution_count": 1,
   "metadata": {},
   "outputs": [
    {
     "name": "stdout",
     "output_type": "stream",
     "text": [
      "10 <class 'int'>\n",
      "3.14 <class 'float'>\n",
      "Hello <class 'str'>\n",
      "False <class 'bool'>\n"
     ]
    }
   ],
   "source": [
    "num1 = 10\n",
    "num2 = 3.14\n",
    "message = \"Hello\"\n",
    "is_valid = False\n",
    "print(num1, type(num1))\n",
    "print(num2, type(num2))\n",
    "print(message, type(message))\n",
    "print(is_valid, type(is_valid))"
   ]
  },
  {
   "cell_type": "code",
   "execution_count": 2,
   "metadata": {},
   "outputs": [
    {
     "name": "stdout",
     "output_type": "stream",
     "text": [
      "成年人\n"
     ]
    }
   ],
   "source": [
    "age = 18\n",
    "if age < 18:\n",
    "    print(\"未成年\")\n",
    "elif age >= 18 and age < 60:\n",
    "    print(\"成年人\")\n",
    "else:\n",
    "    print(\"老年人\")"
   ]
  },
  {
   "cell_type": "code",
   "execution_count": 3,
   "metadata": {},
   "outputs": [
    {
     "name": "stdout",
     "output_type": "stream",
     "text": [
      "apple\n",
      "banana\n",
      "cherry\n"
     ]
    }
   ],
   "source": [
    "fruits = [\"apple\", \"banana\", \"cherry\"]\n",
    "for fruit in fruits:\n",
    "    print(fruit)"
   ]
  },
  {
   "cell_type": "code",
   "execution_count": 4,
   "metadata": {},
   "outputs": [
    {
     "name": "stdout",
     "output_type": "stream",
     "text": [
      "0\n",
      "1\n",
      "2\n",
      "3\n",
      "4\n"
     ]
    }
   ],
   "source": [
    "count = 0\n",
    "while count < 5:\n",
    "    print(count)\n",
    "    count += 1"
   ]
  },
  {
   "cell_type": "code",
   "execution_count": 6,
   "metadata": {},
   "outputs": [
    {
     "name": "stdout",
     "output_type": "stream",
     "text": [
      "14 <class 'int'>\n"
     ]
    }
   ],
   "source": [
    "def function_adder(a, b):\n",
    "    return a + b\n",
    "print(function_adder(5, 9), type(function_adder(5, 9)))"
   ]
  },
  {
   "cell_type": "markdown",
   "metadata": {},
   "source": [
    "## 参数传递"
   ]
  },
  {
   "cell_type": "code",
   "execution_count": 1,
   "metadata": {},
   "outputs": [
    {
     "name": "stdout",
     "output_type": "stream",
     "text": [
      "程序名称：c:\\Users\\JyEgg\\Desktop\\Git\\python-task-tracker\\.venv\\Lib\\site-packages\\ipykernel_launcher.py\n",
      "传递参数的数量是：1\n",
      "sys.argv 的类型是：<class 'list'>\n",
      "参数 1 是：--f=c:\\Users\\JyEgg\\AppData\\Roaming\\jupyter\\runtime\\kernel-v3eb39d4de966a38655db6b4b9269f77ab76e499d8.json\n"
     ]
    }
   ],
   "source": [
    "import sys\n",
    "print(f\"程序名称：{sys.argv[0]}\")\n",
    "arg_count = len(sys.argv) - 1\n",
    "print(f\"传递参数的数量是：{arg_count}\")\n",
    "print(f\"sys.argv 的类型是：{type(sys.argv)}\")\n",
    "if arg_count > 0:\n",
    "    for i, arg in enumerate(sys.argv[1:], start = 1):\n",
    "        print(f\"参数 {i} 是：{arg}\")\n",
    "else:\n",
    "    print(\"此程序没有参数。\")"
   ]
  },
  {
   "cell_type": "markdown",
   "metadata": {},
   "source": [
    "## JSON"
   ]
  },
  {
   "cell_type": "code",
   "execution_count": 10,
   "metadata": {},
   "outputs": [
    {
     "name": "stdout",
     "output_type": "stream",
     "text": [
      "{\"name\": \"\\u5c0f\\u674e\", \"age\": 25}\n"
     ]
    }
   ],
   "source": [
    "import json\n",
    "\n",
    "person = {\n",
    "    \"name\": \"小李\",\n",
    "    \"age\": 25\n",
    "}\n",
    "\n",
    "json_string = json.dumps(person)\n",
    "print(json_string)"
   ]
  },
  {
   "cell_type": "code",
   "execution_count": null,
   "metadata": {},
   "outputs": [
    {
     "name": "stdout",
     "output_type": "stream",
     "text": [
      "{\"name\": \"小李\", \"age\": 25}\n"
     ]
    }
   ],
   "source": [
    "import json\n",
    "\n",
    "person = {\n",
    "    \"name\": \"小李\",\n",
    "    \"age\": 25\n",
    "}\n",
    "\n",
    "json_string = json.dumps(person, ensure_ascii=False)\n",
    "print(json_string)"
   ]
  },
  {
   "cell_type": "code",
   "execution_count": null,
   "metadata": {},
   "outputs": [
    {
     "name": "stdout",
     "output_type": "stream",
     "text": [
      "{'name': '小李', 'age': 25, 'hobbies': ['读书', '跑步']}\n"
     ]
    }
   ],
   "source": [
    "person = {\n",
    "    \"name\": \"小李\",\n",
    "    \"age\": 25,\n",
    "    \"hobbies\": [\"读书\", \"跑步\"]\n",
    "}\n",
    "\n",
    "print(person)"
   ]
  },
  {
   "cell_type": "code",
   "execution_count": 6,
   "metadata": {},
   "outputs": [
    {
     "name": "stdout",
     "output_type": "stream",
     "text": [
      "['读书', '跑步']\n"
     ]
    }
   ],
   "source": [
    "print(person[\"hobbies\"])"
   ]
  },
  {
   "cell_type": "code",
   "execution_count": 9,
   "metadata": {},
   "outputs": [],
   "source": [
    "person = {\n",
    "    \"name\": \"小王\",\n",
    "    \"age\": 30\n",
    "}\n",
    "\n",
    "with open(\"person.json\", \"w\", encoding=\"utf-8\") as file:\n",
    "    json.dump(person, file, ensure_ascii=False)"
   ]
  },
  {
   "cell_type": "code",
   "execution_count": 13,
   "metadata": {},
   "outputs": [
    {
     "name": "stdout",
     "output_type": "stream",
     "text": [
      "{'name': '小王', 'age': 30}\n",
      "<class 'dict'>\n"
     ]
    }
   ],
   "source": [
    "import json\n",
    "\n",
    "with open(\"person.json\", \"r\", encoding=\"utf-8\") as file:\n",
    "    data_read_from_json = json.load(file)\n",
    "print(data_read_from_json)\n",
    "print(type(data_read_from_json))"
   ]
  },
  {
   "cell_type": "markdown",
   "metadata": {},
   "source": [
    "## 时间处理"
   ]
  },
  {
   "cell_type": "code",
   "execution_count": 20,
   "metadata": {},
   "outputs": [
    {
     "name": "stdout",
     "output_type": "stream",
     "text": [
      "2025-02-09 15:27:49.642123 <class 'datetime.datetime'>\n",
      "2025 年 02 月 09 日 15:27:49\n"
     ]
    }
   ],
   "source": [
    "import datetime\n",
    "\n",
    "current_time = datetime.datetime.now()\n",
    "print(current_time, type(current_time))\n",
    "formatted_date = current_time.strftime(\"%Y 年 %m 月 %d 日 %H:%M:%S\")\n",
    "print(formatted_date)"
   ]
  },
  {
   "cell_type": "markdown",
   "metadata": {},
   "source": [
    "## 错误处理"
   ]
  },
  {
   "cell_type": "code",
   "execution_count": 24,
   "metadata": {},
   "outputs": [
    {
     "name": "stdout",
     "output_type": "stream",
     "text": [
      "1.1222222222222222\n",
      "程序被正确执行了！\n",
      "程序执行结束！\n"
     ]
    }
   ],
   "source": [
    "try:\n",
    "    num1 = float(input(\"请输入第一个数字：\"))\n",
    "    num2 = float(input(\"请输入第二个数字：\"))\n",
    "    result = num1 / num2\n",
    "    print(result)\n",
    "except ZeroDivisionError:\n",
    "    print(\"不能除以 0！\")\n",
    "except ValueError:\n",
    "    print(\"数字无效！\")\n",
    "except:\n",
    "    print(\"发生了一个不常见的错误！\")\n",
    "else:\n",
    "    print(\"程序被正确执行了！\")\n",
    "finally:\n",
    "    print(\"程序执行结束！\")"
   ]
  }
 ],
 "metadata": {
  "kernelspec": {
   "display_name": ".venv",
   "language": "python",
   "name": "python3"
  },
  "language_info": {
   "codemirror_mode": {
    "name": "ipython",
    "version": 3
   },
   "file_extension": ".py",
   "mimetype": "text/x-python",
   "name": "python",
   "nbconvert_exporter": "python",
   "pygments_lexer": "ipython3",
   "version": "3.13.2"
  }
 },
 "nbformat": 4,
 "nbformat_minor": 2
}
